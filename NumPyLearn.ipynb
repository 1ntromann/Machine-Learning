{
  "cells": [
    {
      "cell_type": "markdown",
      "metadata": {
        "id": "view-in-github",
        "colab_type": "text"
      },
      "source": [
        "<a href=\"https://colab.research.google.com/github/1ntromann/Machine-Learning/blob/main/NumPyLearn.ipynb\" target=\"_parent\"><img src=\"https://colab.research.google.com/assets/colab-badge.svg\" alt=\"Open In Colab\"/></a>"
      ]
    },
    {
      "cell_type": "markdown",
      "metadata": {
        "id": "2rW3BWRK-rnI"
      },
      "source": [
        "Numpy Learn"
      ]
    },
    {
      "cell_type": "code",
      "execution_count": null,
      "metadata": {
        "id": "bfCDpkkO_Bff"
      },
      "outputs": [],
      "source": [
        "import numpy as np"
      ]
    },
    {
      "cell_type": "code",
      "execution_count": null,
      "metadata": {
        "id": "vcbIDVuwA7Db"
      },
      "outputs": [],
      "source": [
        "array = np.array([1,2,3,4,5])"
      ]
    },
    {
      "cell_type": "code",
      "execution_count": null,
      "metadata": {
        "colab": {
          "base_uri": "https://localhost:8080/"
        },
        "id": "hlZq11vVBbrD",
        "outputId": "e750b49f-22e4-4178-9a3f-4850fce8e2ce"
      },
      "outputs": [
        {
          "output_type": "stream",
          "name": "stdout",
          "text": [
            "[1 2 3 4 5]\n",
            "5\n",
            "(5,)\n"
          ]
        },
        {
          "output_type": "execute_result",
          "data": {
            "text/plain": [
              "numpy.ndarray"
            ]
          },
          "metadata": {},
          "execution_count": 3
        }
      ],
      "source": [
        "print(array)\n",
        "print(array.size)\n",
        "print(array.shape)\n",
        "type(array)"
      ]
    },
    {
      "cell_type": "code",
      "execution_count": null,
      "metadata": {
        "colab": {
          "base_uri": "https://localhost:8080/"
        },
        "id": "I_fzDyAlBh9e",
        "outputId": "04552b7a-f200-4d4d-996b-e84f659591b9"
      },
      "outputs": [
        {
          "output_type": "stream",
          "name": "stdout",
          "text": [
            "[[2 3]\n",
            " [4 5]\n",
            " [1 9]\n",
            " [0 7]]\n",
            "(4, 2)\n",
            "8\n"
          ]
        }
      ],
      "source": [
        "mat= np.array([(2,3,4,5),(1,9,0,7)])\n",
        "\n",
        "mat.resize(4,2)\n",
        "print(mat)\n",
        "print(mat.shape)\n",
        "print(mat.size)"
      ]
    },
    {
      "cell_type": "code",
      "execution_count": null,
      "metadata": {
        "colab": {
          "base_uri": "https://localhost:8080/"
        },
        "id": "gF9VxTFbCZ95",
        "outputId": "97370cb6-d091-4710-ea2a-1a82fe7299c4"
      },
      "outputs": [
        {
          "output_type": "stream",
          "name": "stdout",
          "text": [
            "[[0. 0. 0.]\n",
            " [0. 0. 0.]]\n",
            "[[1. 1. 1. 1.]\n",
            " [1. 1. 1. 1.]\n",
            " [1. 1. 1. 1.]]\n",
            "[[4.2 4.2]\n",
            " [4.2 4.2]\n",
            " [4.2 4.2]]\n",
            "[[1. 0. 0. 0. 0. 0.]\n",
            " [0. 1. 0. 0. 0. 0.]\n",
            " [0. 0. 1. 0. 0. 0.]\n",
            " [0. 0. 0. 1. 0. 0.]\n",
            " [0. 0. 0. 0. 1. 0.]\n",
            " [0. 0. 0. 0. 0. 1.]]\n"
          ]
        }
      ],
      "source": [
        "mat0 = np.zeros((2,3))\n",
        "print(mat0)\n",
        "\n",
        "mat1=np.ones((3,4))\n",
        "print(mat1)\n",
        "\n",
        "x=np.full((3,2),4.2)\n",
        "print(x)\n",
        "\n",
        "unit=np.eye(6)\n",
        "print(unit)"
      ]
    },
    {
      "cell_type": "code",
      "execution_count": null,
      "metadata": {
        "colab": {
          "base_uri": "https://localhost:8080/"
        },
        "id": "TrYcXzf6D5Mi",
        "outputId": "84078ecd-c0b1-495d-a1c9-ca9a06dcd93a"
      },
      "outputs": [
        {
          "output_type": "stream",
          "name": "stdout",
          "text": [
            "[[0.18793115 0.31031931 0.83927113 0.5021455 ]\n",
            " [0.7649021  0.7926252  0.0691206  0.09251209]\n",
            " [0.62415869 0.63484539 0.33745253 0.56163456]]\n",
            "float64\n",
            "[[ 79  10 107]\n",
            " [ 91  18  58]\n",
            " [ 12  65 105]\n",
            " [ 13  32  45]]\n",
            "2\n"
          ]
        }
      ],
      "source": [
        "# random values\n",
        "y=np.random.random((3,4))\n",
        "print(y)\n",
        "print(y.dtype)\n",
        "\n",
        "# random integers in a range\n",
        "z=np.random.randint(10,111,(4,3))\n",
        "print(z)\n",
        "print(z.ndim)"
      ]
    },
    {
      "cell_type": "code",
      "execution_count": null,
      "metadata": {
        "colab": {
          "base_uri": "https://localhost:8080/"
        },
        "id": "VBLM01A0E9sZ",
        "outputId": "88b23540-a172-4579-d1cc-6539b45f02ff"
      },
      "outputs": [
        {
          "output_type": "stream",
          "name": "stdout",
          "text": [
            "[10. 15. 20.]\n",
            "[10 22 34 46 58 70 82 94]\n"
          ]
        }
      ],
      "source": [
        "# evenly spaced values\n",
        "a=np.linspace(10,20,3)\n",
        "print(a)\n",
        "\n",
        "# values in arithmetic progression\n",
        "b=np.arange(10,100,12)\n",
        "print(b)"
      ]
    },
    {
      "cell_type": "code",
      "execution_count": null,
      "metadata": {
        "id": "llBybhxQGJui"
      },
      "outputs": [],
      "source": [
        ""
      ]
    },
    {
      "cell_type": "markdown",
      "metadata": {
        "id": "MS6da1trGufU"
      },
      "source": [
        "list as numpy array"
      ]
    },
    {
      "cell_type": "code",
      "execution_count": null,
      "metadata": {
        "colab": {
          "base_uri": "https://localhost:8080/"
        },
        "id": "pU1xjBD-Gw-r",
        "outputId": "424ca062-eabd-4761-cc37-fec178c5d661"
      },
      "outputs": [
        {
          "output_type": "stream",
          "name": "stdout",
          "text": [
            "[ 2  8  1 12]\n"
          ]
        }
      ],
      "source": [
        "list1=[2,8,1,12]\n",
        "arr=np.asarray(list1)\n",
        "print(arr)"
      ]
    },
    {
      "cell_type": "markdown",
      "metadata": {
        "id": "FgVNHNUaHdWG"
      },
      "source": [
        "Mathematical operations"
      ]
    },
    {
      "cell_type": "code",
      "execution_count": null,
      "metadata": {
        "colab": {
          "base_uri": "https://localhost:8080/"
        },
        "id": "HWU3Kc1bG-J0",
        "outputId": "556efff3-b7af-4af4-88cd-36e2bbf5e11e"
      },
      "outputs": [
        {
          "output_type": "stream",
          "name": "stdout",
          "text": [
            "[ 5  9 17  4]\n"
          ]
        }
      ],
      "source": [
        "arr1=np.array([2,1,8,4])\n",
        "arr2=np.array([3,8,9,0])\n",
        "arr3=arr1+arr2\n",
        "print(arr3)"
      ]
    },
    {
      "cell_type": "code",
      "execution_count": null,
      "metadata": {
        "colab": {
          "base_uri": "https://localhost:8080/"
        },
        "id": "wIUDp97jHrqV",
        "outputId": "18f843d5-c89a-4f76-a102-26b7f88b4897"
      },
      "outputs": [
        {
          "output_type": "stream",
          "name": "stdout",
          "text": [
            "[[ 9 30 23 41]\n",
            " [ 2 32 42 29]\n",
            " [14 35 34 20]]\n",
            " \n",
            "[[17 45 31 43]\n",
            " [41 56 27 51]\n",
            " [59 43 39 39]]\n",
            " \n",
            "[[26 75 54 84]\n",
            " [43 88 69 80]\n",
            " [73 78 73 59]]\n",
            " \n",
            "[[ -8 -15  -8  -2]\n",
            " [-39 -24  15 -22]\n",
            " [-45  -8  -5 -19]]\n",
            " \n",
            "[[ 153 1350  713 1763]\n",
            " [  82 1792 1134 1479]\n",
            " [ 826 1505 1326  780]]\n",
            " \n",
            "[[0.52941176 0.66666667 0.74193548 0.95348837]\n",
            " [0.04878049 0.57142857 1.55555556 0.56862745]\n",
            " [0.23728814 0.81395349 0.87179487 0.51282051]]\n"
          ]
        }
      ],
      "source": [
        "a=np.random.randint(0,45,(3,4))\n",
        "b=np.random.randint(10,60,(3,4))\n",
        "\n",
        "# for addition we can also use print(np.add(a,b)) and similarly for subtract,mulitiply, divide\n",
        "print(a)\n",
        "print(\" \")\n",
        "print(b)\n",
        "print(\" \")\n",
        "print(a+b)\n",
        "print(\" \")\n",
        "print(a-b)\n",
        "print(\" \")\n",
        "print(a*b)\n",
        "print(\" \")\n",
        "print(a/b)"
      ]
    },
    {
      "cell_type": "code",
      "execution_count": null,
      "metadata": {
        "colab": {
          "base_uri": "https://localhost:8080/"
        },
        "id": "_kx7UdPZIbTj",
        "outputId": "fe6ce3d6-85cb-4df7-be86-e0730888f8e9"
      },
      "outputs": [
        {
          "output_type": "stream",
          "name": "stdout",
          "text": [
            "[[10 34 36 14]\n",
            " [18  6 39 13]\n",
            " [23 12 42 16]]\n",
            "\n",
            "\n",
            "[[10 18 23]\n",
            " [34  6 12]\n",
            " [36 39 42]\n",
            " [14 13 16]]\n"
          ]
        }
      ],
      "source": [
        "# finding transpose\n",
        "a=np.random.randint(0,45,(3,4))\n",
        "print(a)\n",
        "print(\"\\n\")\n",
        "tran=np.transpose(a)\n",
        "print(tran)"
      ]
    },
    {
      "cell_type": "code",
      "execution_count": null,
      "metadata": {
        "colab": {
          "base_uri": "https://localhost:8080/"
        },
        "id": "w8ghBC7xJhRb",
        "outputId": "046c7339-7668-4080-eca7-45c5e1d3d0bb"
      },
      "outputs": [
        {
          "output_type": "stream",
          "name": "stdout",
          "text": [
            "<class 'numpy.ufunc'>\n"
          ]
        }
      ],
      "source": [
        "# finding type of function\n",
        "print(type(np.add))"
      ]
    },
    {
      "cell_type": "code",
      "execution_count": null,
      "metadata": {
        "id": "oNoQDnq_SY3Q"
      },
      "outputs": [],
      "source": [
        ""
      ]
    }
  ],
  "metadata": {
    "colab": {
      "name": "NumPyLearn.ipynb",
      "provenance": [],
      "authorship_tag": "ABX9TyMXTi+agcR6eF4ex6vgvC07",
      "include_colab_link": true
    },
    "kernelspec": {
      "display_name": "Python 3",
      "name": "python3"
    },
    "language_info": {
      "name": "python"
    }
  },
  "nbformat": 4,
  "nbformat_minor": 0
}